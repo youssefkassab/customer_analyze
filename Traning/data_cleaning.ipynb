{
 "cells": [
  {
   "cell_type": "code",
   "execution_count": null,
   "id": "c92dc15f",
   "metadata": {},
   "outputs": [],
   "source": [
    "import pandas as pd\n",
    "# test"
   ]
  },
  {
   "cell_type": "code",
   "execution_count": 2,
   "id": "b7a0ad95",
   "metadata": {},
   "outputs": [],
   "source": [
    "df = pd.read_excel(\"datasets/Online Retail.xlsx\")"
   ]
  },
  {
   "cell_type": "code",
   "execution_count": 3,
   "id": "3f3d94a6",
   "metadata": {},
   "outputs": [],
   "source": [
    "df['InvoiceNo'] = pd.to_numeric(df['InvoiceNo'], errors='coerce')\n",
    "df = df.dropna()\n",
    "df = df[df['InvoiceNo'] >= 0]  \n",
    "df = df[df['Quantity'] >= 0]  \n",
    "df['InvoiceDate'] = pd.to_datetime(df['InvoiceDate'])\n",
    "df['CustomerID'] = df['CustomerID'].astype(str)  # ensure consistency\n",
    "df['line_total'] = df['Quantity'] * df['UnitPrice']\n",
    "df['day'] = df['InvoiceDate'].dt.day_name()\n",
    "df['month'] = df['InvoiceDate'].dt.month\n",
    "df['year'] = df['InvoiceDate'].dt.year\n",
    "df['time_24h'] = df['InvoiceDate'].dt.strftime('%H:%M')"
   ]
  },
  {
   "cell_type": "code",
   "execution_count": 4,
   "id": "aded71df",
   "metadata": {},
   "outputs": [],
   "source": [
    "total_spend = df.groupby('CustomerID')['line_total'].sum().reset_index()\n",
    "total_spend.rename(columns={'line_total': 'total_spend'}, inplace=True)\n",
    "purchase_freq = df.groupby('CustomerID')['InvoiceNo'].nunique().reset_index()\n",
    "purchase_freq.rename(columns={'InvoiceNo': 'purchase_frequency'}, inplace=True)\n",
    "customer_df = total_spend.merge(purchase_freq, on='CustomerID')\n",
    "customer_df['avg_order_value'] = customer_df['total_spend'] / customer_df['purchase_frequency']"
   ]
  },
  {
   "cell_type": "code",
   "execution_count": 5,
   "id": "deacb34b",
   "metadata": {},
   "outputs": [],
   "source": [
    "df = df.head(10000)\n",
    "df.to_csv('datasets/Online_Retail_cleaned.csv', index=False)"
   ]
  }
 ],
 "metadata": {
  "kernelspec": {
   "display_name": "Python 3",
   "language": "python",
   "name": "python3"
  },
  "language_info": {
   "codemirror_mode": {
    "name": "ipython",
    "version": 3
   },
   "file_extension": ".py",
   "mimetype": "text/x-python",
   "name": "python",
   "nbconvert_exporter": "python",
   "pygments_lexer": "ipython3",
   "version": "3.13.1"
  }
 },
 "nbformat": 4,
 "nbformat_minor": 5
}
