{
 "cells": [
  {
   "cell_type": "code",
   "execution_count": 1,
   "metadata": {},
   "outputs": [],
   "source": [
    "import pandas as pd\n",
    "from sklearn.preprocessing import normalize\n",
    "from sklearn.model_selection import train_test_split\n",
    "from sklearn.cluster import KMeans\n",
    "from sklearn.metrics import silhouette_score\n",
    "import matplotlib.pyplot as plt\n",
    "from skl2onnx import convert_sklearn\n",
    "from skl2onnx.common.data_types import FloatTensorType"
   ]
  },
  {
   "cell_type": "code",
   "execution_count": 2,
   "metadata": {},
   "outputs": [],
   "source": [
    "df = pd.read_excel(\"datasets/Online Retail.xlsx\")"
   ]
  },
  {
   "cell_type": "code",
   "execution_count": 3,
   "metadata": {},
   "outputs": [],
   "source": [
    "df['InvoiceNo'] = pd.to_numeric(df['InvoiceNo'], errors='coerce')\n",
    "df = df.dropna()\n",
    "df = df[df['InvoiceNo'] >= 0]  \n",
    "df = df[df['Quantity'] >= 0]  \n",
    "df['InvoiceDate'] = pd.to_datetime(df['InvoiceDate'])\n",
    "df['CustomerID'] = df['CustomerID'].astype(str)  # ensure consistency\n",
    "df['line_total'] = df['Quantity'] * df['UnitPrice']\n",
    "df['day'] = df['InvoiceDate'].dt.day_name()\n",
    "df['month'] = df['InvoiceDate'].dt.month\n",
    "df['year'] = df['InvoiceDate'].dt.year\n",
    "df['time_24h'] = df['InvoiceDate'].dt.strftime('%H:%M')"
   ]
  },
  {
   "cell_type": "code",
   "execution_count": 4,
   "metadata": {},
   "outputs": [],
   "source": [
    "total_spend = df.groupby('CustomerID')['line_total'].sum().reset_index()\n",
    "total_spend.rename(columns={'line_total': 'total_spend'}, inplace=True)\n",
    "purchase_freq = df.groupby('CustomerID')['InvoiceNo'].nunique().reset_index()\n",
    "purchase_freq.rename(columns={'InvoiceNo': 'purchase_frequency'}, inplace=True)\n",
    "customer_df = total_spend.merge(purchase_freq, on='CustomerID')\n",
    "customer_df['avg_order_value'] = customer_df['total_spend'] / customer_df['purchase_frequency']"
   ]
  },
  {
   "cell_type": "code",
   "execution_count": 5,
   "metadata": {},
   "outputs": [],
   "source": [
    "df = df.head(10000)"
   ]
  },
  {
   "cell_type": "code",
   "execution_count": 6,
   "metadata": {},
   "outputs": [],
   "source": [
    "features = df[[\"InvoiceNo\",\"Quantity\",\"UnitPrice\",\"CustomerID\",\"line_total\",\"month\"]].dropna()\n",
    "X_train, X_test = train_test_split(features, test_size=0.33, random_state=0)\n",
    "X_train_norm = normalize(X_train)\n",
    "X_test_norm = normalize(X_test)"
   ]
  },
  {
   "cell_type": "code",
   "execution_count": 7,
   "metadata": {},
   "outputs": [
    {
     "name": "stdout",
     "output_type": "stream",
     "text": [
      "k=2, Silhouette Score=0.614\n",
      "k=3, Silhouette Score=0.643\n",
      "k=4, Silhouette Score=0.637\n",
      "k=5, Silhouette Score=0.645\n",
      "k=6, Silhouette Score=0.632\n",
      "k=7, Silhouette Score=0.592\n"
     ]
    }
   ],
   "source": [
    "fits = []\n",
    "scores = []\n",
    "\n",
    "for k in range(2, 8):  # try k=2 to k=7\n",
    "    model = KMeans(n_clusters=k, random_state=1, n_init=1).fit(X_train_norm)\n",
    "    fits.append(model)\n",
    "    score = silhouette_score(X_train_norm, model.labels_)\n",
    "    scores.append(score)\n",
    "    print(f\"k={k}, Silhouette Score={score:.3f}\")"
   ]
  },
  {
   "cell_type": "code",
   "execution_count": 8,
   "metadata": {},
   "outputs": [
    {
     "name": "stdout",
     "output_type": "stream",
     "text": [
      "k=5, Silhouette Score=0.645\n"
     ]
    }
   ],
   "source": [
    "k = 5\n",
    "model = KMeans(n_clusters=k, random_state=1, n_init=1).fit(X_train_norm)\n",
    "fits.append(model)\n",
    "score = silhouette_score(X_train_norm, model.labels_)\n",
    "scores.append(score)\n",
    "print(f\"k={k}, Silhouette Score={score:.3f}\")"
   ]
  },
  {
   "cell_type": "code",
   "execution_count": null,
   "metadata": {},
   "outputs": [
    {
     "name": "stdout",
     "output_type": "stream",
     "text": [
      "✅ ONNX model saved as model.onnx\n"
     ]
    }
   ],
   "source": [
    "initial_type = [('float_input', FloatTensorType([None, features.shape[1]]))]\n",
    "onx = convert_sklearn(model, initial_types=initial_type,)\n",
    "with open(\"models/model.onnx\", \"wb\") as f:\n",
    "    f.write(onx.SerializeToString())\n",
    "print(\"✅ ONNX model saved as model.onnx\")"
   ]
  }
 ],
 "metadata": {
  "kernelspec": {
   "display_name": "Python 3",
   "language": "python",
   "name": "python3"
  },
  "language_info": {
   "codemirror_mode": {
    "name": "ipython",
    "version": 3
   },
   "file_extension": ".py",
   "mimetype": "text/x-python",
   "name": "python",
   "nbconvert_exporter": "python",
   "pygments_lexer": "ipython3",
   "version": "3.13.1"
  }
 },
 "nbformat": 4,
 "nbformat_minor": 2
}
