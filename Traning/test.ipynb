{
 "cells": [
  {
   "cell_type": "code",
   "execution_count": 1,
   "metadata": {},
   "outputs": [],
   "source": [
    "import pandas as pd\n",
    "from sklearn.preprocessing import normalize\n",
    "from sklearn.model_selection import train_test_split\n",
    "from sklearn.cluster import KMeans\n",
    "from sklearn.metrics import silhouette_score\n",
    "import matplotlib.pyplot as plt\n",
    "from skl2onnx import convert_sklearn\n",
    "from skl2onnx.common.data_types import FloatTensorType"
   ]
  },
  {
   "cell_type": "code",
   "execution_count": 9,
   "metadata": {},
   "outputs": [],
   "source": [
    "\n",
    "df = pd.read_excel(\"Online Retail.xlsx\")\n"
   ]
  },
  {
   "cell_type": "code",
   "execution_count": 3,
   "metadata": {},
   "outputs": [
    {
     "data": {
      "text/plain": [
       "0        12\n",
       "1        12\n",
       "2        12\n",
       "3        12\n",
       "4        12\n",
       "         ..\n",
       "14329    12\n",
       "14330    12\n",
       "14331    12\n",
       "14393    12\n",
       "14394    12\n",
       "Name: month, Length: 10000, dtype: int32"
      ]
     },
     "execution_count": 3,
     "metadata": {},
     "output_type": "execute_result"
    }
   ],
   "source": [
    "\n",
    "df['InvoiceNo'] = pd.to_numeric(df['InvoiceNo'], errors='coerce')\n",
    "df = df.dropna()\n",
    "df = df[df['InvoiceNo'] >= 0]  \n",
    "df = df[df['Quantity'] >= 0]  \n",
    "df['InvoiceDate'] = pd.to_datetime(df['InvoiceDate'])\n",
    "df['CustomerID'] = df['CustomerID'].astype(str)  # ensure consistency\n",
    "df['line_total'] = df['Quantity'] * df['UnitPrice']\n",
    "df['day'] = df['InvoiceDate'].dt.day_name()\n",
    "df['month'] = df['InvoiceDate'].dt.month\n",
    "df['year'] = df['InvoiceDate'].dt.year\n",
    "df['time_24h'] = df['InvoiceDate'].dt.strftime('%H:%M')\n",
    "total_spend = df.groupby('CustomerID')['line_total'].sum().reset_index()\n",
    "total_spend.rename(columns={'line_total': 'total_spend'}, inplace=True)\n",
    "purchase_freq = df.groupby('CustomerID')['InvoiceNo'].nunique().reset_index()\n",
    "purchase_freq.rename(columns={'InvoiceNo': 'purchase_frequency'}, inplace=True)\n",
    "customer_df = total_spend.merge(purchase_freq, on='CustomerID')\n",
    "customer_df['avg_order_value'] = customer_df['total_spend'] / customer_df['purchase_frequency']\n",
    "df = df.head(10000)\n",
    "df[\"month\"]"
   ]
  },
  {
   "cell_type": "code",
   "execution_count": 4,
   "metadata": {},
   "outputs": [],
   "source": [
    "\n",
    "features = df[[\"InvoiceNo\",\"Quantity\",\"UnitPrice\",\"CustomerID\",\"line_total\",\"month\"]].dropna()\n",
    "\n",
    "# ✅ Split data\n",
    "X_train, X_test = train_test_split(features, test_size=0.33, random_state=0)\n",
    "\n",
    "# ✅ Normalize data\n",
    "X_train_norm = normalize(X_train)\n",
    "X_test_norm = normalize(X_test)"
   ]
  },
  {
   "cell_type": "code",
   "execution_count": 5,
   "metadata": {},
   "outputs": [],
   "source": [
    "# ✅ Try different values of k and calculate silhouette scores\n",
    "K = 2\n",
    "fits = []\n",
    "scores = []"
   ]
  },
  {
   "cell_type": "code",
   "execution_count": 6,
   "metadata": {},
   "outputs": [
    {
     "name": "stdout",
     "output_type": "stream",
     "text": [
      "k=5, Silhouette Score=0.645\n"
     ]
    }
   ],
   "source": [
    "k = 5\n",
    "model = KMeans(n_clusters=k, random_state=1, n_init=1).fit(X_train_norm)\n",
    "fits.append(model)\n",
    "score = silhouette_score(X_train_norm, model.labels_)\n",
    "scores.append(score)\n",
    "print(f\"k={k}, Silhouette Score={score:.3f}\")\n",
    "# fits = []\n",
    "# scores = []\n",
    "\n",
    "# for k in range(2, 8):  # try k=2 to k=7\n",
    "#     model = KMeans(n_clusters=k, random_state=1, n_init=1).fit(X_train_norm)\n",
    "#     fits.append(model)\n",
    "#     score = silhouette_score(X_train_norm, model.labels_)\n",
    "#     scores.append(score)\n",
    "#     print(f\"k={k}, Silhouette Score={score:.3f}\")\n",
    "\n"
   ]
  },
  {
   "cell_type": "code",
   "execution_count": 8,
   "metadata": {},
   "outputs": [
    {
     "name": "stdout",
     "output_type": "stream",
     "text": [
      "✅ ONNX model saved as model.onnx\n"
     ]
    }
   ],
   "source": [
    "initial_type = [('float_input', FloatTensorType([None, features.shape[1]]))]\n",
    "onx = convert_sklearn(model, initial_types=initial_type,)\n",
    "with open(\"model.onnx\", \"wb\") as f:\n",
    "    f.write(onx.SerializeToString())\n",
    "print(\"✅ ONNX model saved as model.onnx\")"
   ]
  }
 ],
 "metadata": {
  "kernelspec": {
   "display_name": "Python 3",
   "language": "python",
   "name": "python3"
  },
  "language_info": {
   "codemirror_mode": {
    "name": "ipython",
    "version": 3
   },
   "file_extension": ".py",
   "mimetype": "text/x-python",
   "name": "python",
   "nbconvert_exporter": "python",
   "pygments_lexer": "ipython3",
   "version": "3.13.5"
  }
 },
 "nbformat": 4,
 "nbformat_minor": 2
}
